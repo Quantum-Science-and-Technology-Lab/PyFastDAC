{
 "metadata": {
  "language_info": {
   "codemirror_mode": {
    "name": "ipython",
    "version": 3
   },
   "file_extension": ".py",
   "mimetype": "text/x-python",
   "name": "python",
   "nbconvert_exporter": "python",
   "pygments_lexer": "ipython3",
   "version": "3.9.5"
  },
  "orig_nbformat": 2,
  "kernelspec": {
   "name": "python3",
   "display_name": "Python 3.9.5 64-bit"
  },
  "metadata": {
   "interpreter": {
    "hash": "c98883fa41f4ff03897d75d613ea91b0d3d776b990d460e4420f5faced8aea78"
   }
  },
  "interpreter": {
   "hash": "c98883fa41f4ff03897d75d613ea91b0d3d776b990d460e4420f5faced8aea78"
  }
 },
 "nbformat": 4,
 "nbformat_minor": 2,
 "cells": [
  {
   "cell_type": "markdown",
   "source": [
    "## June 23 Testing"
   ],
   "metadata": {}
  },
  {
   "cell_type": "code",
   "execution_count": 2,
   "source": [
    "import time\r\n",
    "import pickle\r\n",
    "import importlib\r\n",
    "import numpy as np\r\n",
    "from serial.tools import list_ports\r\n",
    "import matplotlib.pyplot as plt \r\n",
    "\r\n",
    "import LabBench \r\n",
    "import FastDAC as FD\r\n",
    "import PIDFastDAC as PFD\r\n",
    "\r\n",
    "\r\n",
    "# nice command to list all the available serial ports\r\n",
    "! python -m serial.tools.list_ports -v"
   ],
   "outputs": [
    {
     "output_type": "stream",
     "name": "stdout",
     "text": [
      "COM1                \n",
      "    desc: Communications Port (COM1)\n",
      "    hwid: ACPI\\PNP0501\\0\n",
      "COM3                \n",
      "    desc: USB Serial Port (COM3)\n",
      "    hwid: USB VID:PID=0403:6014 SER=FT4RD3I0A\n"
     ]
    },
    {
     "output_type": "stream",
     "name": "stderr",
     "text": [
      "2 ports found\n"
     ]
    }
   ],
   "metadata": {}
  },
  {
   "cell_type": "markdown",
   "source": [
    "## Connnection"
   ],
   "metadata": {}
  },
  {
   "cell_type": "code",
   "execution_count": 4,
   "source": [
    "PID_fd = PFD.PIDFastDAC(\"COM3\", 1750000, timeout=10, verbose=False)\r\n",
    "PID_fd.limit = [-2000, 1000]\r\n",
    "# fd = FD.FastDAC(\"COM4\", 1750000, timeout=10, verbose=False)"
   ],
   "outputs": [
    {
     "output_type": "stream",
     "name": "stdout",
     "text": [
      "DAC-ADC_AD7734-AD5764_UNIT5_PIDTEST\n"
     ]
    }
   ],
   "metadata": {}
  }
 ]
}