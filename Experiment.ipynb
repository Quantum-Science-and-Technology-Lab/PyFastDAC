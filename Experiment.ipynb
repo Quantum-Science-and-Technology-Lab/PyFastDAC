{
 "metadata": {
  "language_info": {
   "codemirror_mode": {
    "name": "ipython",
    "version": 3
   },
   "file_extension": ".py",
   "mimetype": "text/x-python",
   "name": "python",
   "nbconvert_exporter": "python",
   "pygments_lexer": "ipython3",
   "version": "3.9.6"
  },
  "orig_nbformat": 2,
  "kernelspec": {
   "name": "python3",
   "display_name": "Python 3.9.6 64-bit ('ray': conda)"
  },
  "metadata": {
   "interpreter": {
    "hash": "c98883fa41f4ff03897d75d613ea91b0d3d776b990d460e4420f5faced8aea78"
   }
  },
  "interpreter": {
   "hash": "cac526695ccb4d7775e6666d76b0134d74ad34316d751bae95fd8dc18f596240"
  }
 },
 "nbformat": 4,
 "nbformat_minor": 2,
 "cells": [
  {
   "cell_type": "markdown",
   "source": [
    "## June 23 Testing"
   ],
   "metadata": {}
  },
  {
   "cell_type": "code",
   "execution_count": 3,
   "source": [
    "import time\r\n",
    "import pickle\r\n",
    "import importlib\r\n",
    "import numpy as np\r\n",
    "from serial.tools import list_ports\r\n",
    "import matplotlib.pyplot as plt \r\n",
    "\r\n",
    "import LabBench \r\n",
    "import FastDAC as FD\r\n",
    "import PIDFastDAC as PFD\r\n",
    "\r\n",
    "\r\n",
    "# nice command to list all the available serial ports\r\n",
    "! python -m serial.tools.list_ports -v"
   ],
   "outputs": [
    {
     "output_type": "stream",
     "name": "stdout",
     "text": [
      "COM1                \n",
      "    desc: Communications Port (COM1)\n",
      "    hwid: ACPI\\PNP0501\\0\n",
      "COM3                \n",
      "    desc: USB Serial Port (COM3)\n",
      "    hwid: USB VID:PID=0403:6014 SER=FT4RD3I0A\n"
     ]
    },
    {
     "output_type": "stream",
     "name": "stderr",
     "text": [
      "2 ports found\n"
     ]
    }
   ],
   "metadata": {}
  },
  {
   "cell_type": "markdown",
   "source": [
    "## Connnection"
   ],
   "metadata": {}
  },
  {
   "cell_type": "code",
   "execution_count": 2,
   "source": [
    "PID_fd = PFD.PIDFastDAC(\"COM3\", 1750000, timeout=10, verbose=False)\r\n",
    "# PID_fd.limit = [-2000, 1000]\r\n",
    "# fd = FD.FastDAC(\"COM4\", 1750000, timeout=10, verbose=False)"
   ],
   "outputs": [
    {
     "output_type": "stream",
     "name": "stdout",
     "text": [
      "DAC-ADC_AD7734-AD5764_UNIT5_PIDTEST\n"
     ]
    }
   ],
   "metadata": {}
  },
  {
   "cell_type": "code",
   "execution_count": 4,
   "source": [
    "import plotly.graph_objs as go\r\n",
    "from threading import Thread, Timer\r\n",
    "\r\n",
    "fig = go.FigureWidget(data=[go.Scatter(x=[], y=[])])\r\n",
    "fig.update_layout(\r\n",
    "    xaxis_title=\"Time\",\r\n",
    "    yaxis_title=\"Voltage\",\r\n",
    ")"
   ],
   "outputs": [
    {
     "output_type": "display_data",
     "data": {
      "text/plain": [
       "FigureWidget({\n",
       "    'data': [{'type': 'scatter', 'uid': '68a4bb3a-eff9-4297-9848-7555f34284ba', 'x': [], 'y': […"
      ],
      "application/vnd.jupyter.widget-view+json": {
       "version_major": 2,
       "version_minor": 0,
       "model_id": "573db9c957da4425a1d6e541cf782b09"
      }
     },
     "metadata": {}
    }
   ],
   "metadata": {}
  },
  {
   "cell_type": "code",
   "execution_count": 5,
   "source": [
    "plot = Thread(name = \"ReadVersusTime\", target=PID_fd.read_vs_time, args=(fig, 1, ),)\r\n",
    "plot.start()\r\n",
    "plot.join()"
   ],
   "outputs": [
    {
     "output_type": "stream",
     "name": "stderr",
     "text": [
      "(ReadVersusTime) Starting\n",
      "Exception in thread ReadVersusTime:\n",
      "Traceback (most recent call last):\n",
      "  File \"C:\\Users\\Josh\\miniconda3\\envs\\ray\\lib\\threading.py\", line 973, in _bootstrap_inner\n",
      "    self.run()\n",
      "  File \"C:\\Users\\Josh\\miniconda3\\envs\\ray\\lib\\threading.py\", line 910, in run\n",
      "    self._target(*self._args, **self._kwargs)\n",
      "  File \"c:\\Users\\Josh\\Documents\\Ruiheng Su\\Ray - Python FastDAC\\PyFastDAC\\FastDAC.py\", line 566, in read_vs_time\n",
      "    big_end_arr = np.ndarray(shape=(2,),dtype='>i2', buffer=buffer)\n",
      "TypeError: buffer is too small for requested array\n"
     ]
    },
    {
     "output_type": "stream",
     "name": "stdout",
     "text": [
      "476\n",
      "[-32768 -32768]\n",
      "358\n",
      "[-32768 -32768]\n",
      "158\n",
      "buffer is too small for requested array\n"
     ]
    }
   ],
   "metadata": {}
  },
  {
   "cell_type": "code",
   "execution_count": null,
   "source": [],
   "outputs": [],
   "metadata": {}
  }
 ]
}