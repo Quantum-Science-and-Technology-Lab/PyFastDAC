{
 "cells": [
  {
   "cell_type": "code",
   "execution_count": 1,
   "source": [
    "import h5py\r\n",
    "import FastDAC as FD \r\n",
    "import numpy as np \r\n",
    "import plotly.graph_objs as go\r\n",
    "from plotly.subplots import make_subplots\r\n",
    "\r\n",
    "import matplotlib.pyplot as plt \r\n",
    "from scipy import signal\r\n",
    "\r\n",
    "from pathlib import Path \r\n",
    "from threading import Thread, Timer\r\n",
    "fd = FD.FastDAC(\"COM3\", baudrate=1750000, timeout=10)"
   ],
   "outputs": [
    {
     "output_type": "stream",
     "name": "stdout",
     "text": [
      "DAC-ADC_AD7734-AD5764_UNIT5_PIDTEST\n"
     ]
    }
   ],
   "metadata": {}
  },
  {
   "cell_type": "code",
   "execution_count": 2,
   "source": [
    "fig1 = go.FigureWidget(data=[go.Scatter(x=[], \r\n",
    "                                       y=[], \r\n",
    "                                       line=dict(\r\n",
    "                                            color='rgba(0, 168, 107, 1)',\r\n",
    "                                            width=0.5\r\n",
    "                                        ))])\r\n",
    "\r\n",
    "fig1.update_layout(\r\n",
    "    template=\"plotly_white\",\r\n",
    "    xaxis_title=\"Time\",    \r\n",
    "    yaxis_title=\"Voltage\",\r\n",
    ")\r\n",
    "fig1"
   ],
   "outputs": [
    {
     "output_type": "display_data",
     "data": {
      "text/plain": [
       "FigureWidget({\n",
       "    'data': [{'line': {'color': 'rgba(0, 168, 107, 1)', 'width': 0.5},\n",
       "              'type': 's…"
      ],
      "application/vnd.jupyter.widget-view+json": {
       "version_major": 2,
       "version_minor": 0,
       "model_id": "78ce2fd59f2e48b1a39add3698937a52"
      }
     },
     "metadata": {}
    }
   ],
   "metadata": {}
  },
  {
   "cell_type": "code",
   "execution_count": 3,
   "source": [
    "fig2 = go.FigureWidget(data=[])\r\n",
    "fig2.update_layout(\r\n",
    "    template=\"plotly_white\",\r\n",
    "    xaxis_title=\"Frequency\",\r\n",
    "    yaxis_title=\"PSD\",\r\n",
    ")\r\n",
    "\r\n",
    "fig2"
   ],
   "outputs": [
    {
     "output_type": "display_data",
     "data": {
      "text/plain": [
       "FigureWidget({\n",
       "    'data': [],\n",
       "    'layout': {'template': '...', 'xaxis': {'title': {'text': 'Frequency'}}, 'y…"
      ],
      "application/vnd.jupyter.widget-view+json": {
       "version_major": 2,
       "version_minor": 0,
       "model_id": "9844872cc5d945d09b4396c90856fd0e"
      }
     },
     "metadata": {}
    }
   ],
   "metadata": {}
  },
  {
   "cell_type": "code",
   "execution_count": 10,
   "source": [
    "plot = Thread(name = \"ReadVersusTime\", target=fd.read_vs_time, args=(fig1, 2, ),)\r\n",
    "plot.start()"
   ],
   "outputs": [],
   "metadata": {}
  },
  {
   "cell_type": "code",
   "execution_count": 4,
   "source": [
    "scatter = fig1.data[0]\r\n",
    "\r\n",
    "hf = h5py.File(fd.datapath/Path('data.h5'), 'w')\r\n",
    "hf.create_dataset('Time', data=np.array(scatter.x, dtype=float))\r\n",
    "hf.create_dataset('Voltage', data=np.array(scatter.y, dtype=float))\r\n",
    "hf.close()"
   ],
   "outputs": [],
   "metadata": {}
  },
  {
   "cell_type": "code",
   "execution_count": 5,
   "source": [
    "plot = Thread(name = \"PSD\", target=fd.FDacSpectrumAnalyzer, args=(10, fig2, None, 1),)\r\n",
    "plot.start()    "
   ],
   "outputs": [],
   "metadata": {}
  },
  {
   "cell_type": "code",
   "execution_count": 12,
   "source": [
    "fig2.data"
   ],
   "outputs": [
    {
     "output_type": "execute_result",
     "data": {
      "text/plain": [
       "(Scatter({\n",
       "     'line': {'width': 0.5},\n",
       "     'uid': 'd6a238cd-9b1a-4247-bf93-d77356cd134e',\n",
       "     'x': [0.0, 1.0000280007840219, 2.0000560015680438, ..., 1267.0354769933558,\n",
       "           1268.0355049941397, 1269.0355329949239],\n",
       "     'y': [1.3761741485969832e-05, 4.716585691887414e-05, 6.482503447850952e-05,\n",
       "           ..., 1.0228029647996366e-05, 1.084319441330434e-05,\n",
       "           4.616046141798733e-06]\n",
       " }),\n",
       " Scatter({\n",
       "     'line': {'width': 0.5},\n",
       "     'uid': 'c207304c-6bc9-4e47-9df5-b908112431a6',\n",
       "     'x': [0.0, 0.9988473301809713, 1.9976946603619425, ..., 1266.5384146694716,\n",
       "           1267.5372619996526, 1268.5361093298336],\n",
       "     'y': [60.608703799776706, 93.91817321364337, 84.73989073059164, ...,\n",
       "           0.9512288141948818, 0.2958129315038954, 0.023166438579800476]\n",
       " }))"
      ]
     },
     "metadata": {},
     "execution_count": 12
    }
   ],
   "metadata": {}
  },
  {
   "cell_type": "code",
   "execution_count": 5,
   "source": [
    "import threading \r\n",
    "\r\n",
    "for thread in threading.enumerate(): \r\n",
    "    print(thread.name)"
   ],
   "outputs": [
    {
     "output_type": "stream",
     "name": "stdout",
     "text": [
      "MainThread\n",
      "Thread-2\n",
      "Thread-3\n",
      "IPythonHistorySavingThread\n",
      "Thread-1\n",
      "PSD\n"
     ]
    }
   ],
   "metadata": {}
  },
  {
   "cell_type": "code",
   "execution_count": 20,
   "source": [
    "with plt.style.context([\"sp-paper\"]):\r\n",
    "    fig, ax = plt.subplots(figsize=(10,5))\r\n",
    "    ax.plot(np.array(scatter.x, dtype=float), np.array(scatter.y, dtype=float))\r\n",
    "    ax.autoscale(tight=True)\r\n",
    "    ax.margins(y=0.1)"
   ],
   "outputs": [
    {
     "output_type": "error",
     "ename": "NameError",
     "evalue": "name 'plt' is not defined",
     "traceback": [
      "\u001b[1;31m---------------------------------------------------------------------------\u001b[0m",
      "\u001b[1;31mNameError\u001b[0m                                 Traceback (most recent call last)",
      "\u001b[1;32m<ipython-input-20-78e6e1d9c18e>\u001b[0m in \u001b[0;36m<module>\u001b[1;34m\u001b[0m\n\u001b[1;32m----> 1\u001b[1;33m \u001b[1;32mwith\u001b[0m \u001b[0mplt\u001b[0m\u001b[1;33m.\u001b[0m\u001b[0mstyle\u001b[0m\u001b[1;33m.\u001b[0m\u001b[0mcontext\u001b[0m\u001b[1;33m(\u001b[0m\u001b[1;33m[\u001b[0m\u001b[1;34m\"sp-paper\"\u001b[0m\u001b[1;33m]\u001b[0m\u001b[1;33m)\u001b[0m\u001b[1;33m:\u001b[0m\u001b[1;33m\u001b[0m\u001b[1;33m\u001b[0m\u001b[0m\n\u001b[0m\u001b[0;32m      2\u001b[0m     \u001b[0mfig\u001b[0m\u001b[1;33m,\u001b[0m \u001b[0max\u001b[0m \u001b[1;33m=\u001b[0m \u001b[0mplt\u001b[0m\u001b[1;33m.\u001b[0m\u001b[0msubplots\u001b[0m\u001b[1;33m(\u001b[0m\u001b[0mfigsize\u001b[0m\u001b[1;33m=\u001b[0m\u001b[1;33m(\u001b[0m\u001b[1;36m10\u001b[0m\u001b[1;33m,\u001b[0m\u001b[1;36m5\u001b[0m\u001b[1;33m)\u001b[0m\u001b[1;33m)\u001b[0m\u001b[1;33m\u001b[0m\u001b[1;33m\u001b[0m\u001b[0m\n\u001b[0;32m      3\u001b[0m     \u001b[0max\u001b[0m\u001b[1;33m.\u001b[0m\u001b[0mplot\u001b[0m\u001b[1;33m(\u001b[0m\u001b[0mnp\u001b[0m\u001b[1;33m.\u001b[0m\u001b[0marray\u001b[0m\u001b[1;33m(\u001b[0m\u001b[0mscatter\u001b[0m\u001b[1;33m.\u001b[0m\u001b[0mx\u001b[0m\u001b[1;33m,\u001b[0m \u001b[0mdtype\u001b[0m\u001b[1;33m=\u001b[0m\u001b[0mfloat\u001b[0m\u001b[1;33m)\u001b[0m\u001b[1;33m,\u001b[0m \u001b[0mnp\u001b[0m\u001b[1;33m.\u001b[0m\u001b[0marray\u001b[0m\u001b[1;33m(\u001b[0m\u001b[0mscatter\u001b[0m\u001b[1;33m.\u001b[0m\u001b[0my\u001b[0m\u001b[1;33m,\u001b[0m \u001b[0mdtype\u001b[0m\u001b[1;33m=\u001b[0m\u001b[0mfloat\u001b[0m\u001b[1;33m)\u001b[0m\u001b[1;33m)\u001b[0m\u001b[1;33m\u001b[0m\u001b[1;33m\u001b[0m\u001b[0m\n\u001b[0;32m      4\u001b[0m     \u001b[0max\u001b[0m\u001b[1;33m.\u001b[0m\u001b[0mautoscale\u001b[0m\u001b[1;33m(\u001b[0m\u001b[0mtight\u001b[0m\u001b[1;33m=\u001b[0m\u001b[1;32mTrue\u001b[0m\u001b[1;33m)\u001b[0m\u001b[1;33m\u001b[0m\u001b[1;33m\u001b[0m\u001b[0m\n\u001b[0;32m      5\u001b[0m     \u001b[0max\u001b[0m\u001b[1;33m.\u001b[0m\u001b[0mmargins\u001b[0m\u001b[1;33m(\u001b[0m\u001b[0my\u001b[0m\u001b[1;33m=\u001b[0m\u001b[1;36m0.1\u001b[0m\u001b[1;33m)\u001b[0m\u001b[1;33m\u001b[0m\u001b[1;33m\u001b[0m\u001b[0m\n",
      "\u001b[1;31mNameError\u001b[0m: name 'plt' is not defined"
     ]
    }
   ],
   "metadata": {}
  },
  {
   "cell_type": "code",
   "execution_count": null,
   "source": [],
   "outputs": [],
   "metadata": {}
  }
 ],
 "metadata": {
  "interpreter": {
   "hash": "c98883fa41f4ff03897d75d613ea91b0d3d776b990d460e4420f5faced8aea78"
  },
  "kernelspec": {
   "name": "python3",
   "display_name": "Python 3.9.5 64-bit"
  },
  "language_info": {
   "name": "python",
   "version": "3.9.5",
   "mimetype": "text/x-python",
   "codemirror_mode": {
    "name": "ipython",
    "version": 3
   },
   "pygments_lexer": "ipython3",
   "nbconvert_exporter": "python",
   "file_extension": ".py"
  },
  "orig_nbformat": 4
 },
 "nbformat": 4,
 "nbformat_minor": 2
}